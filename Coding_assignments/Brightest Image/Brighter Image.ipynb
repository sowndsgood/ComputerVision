{
 "cells": [
  {
   "cell_type": "markdown",
   "id": "9cbd2eff-e95c-4870-af9a-82ad29b12850",
   "metadata": {},
   "source": [
    "### Importing Libraries"
   ]
  },
  {
   "cell_type": "code",
   "execution_count": 14,
   "id": "143c86ec-656f-4227-97aa-4876cf3005fe",
   "metadata": {},
   "outputs": [],
   "source": [
    "import cv2 as cv\n",
    "import numpy as np"
   ]
  },
  {
   "cell_type": "markdown",
   "id": "ad73b245-20ee-46e6-8efb-01e786c35438",
   "metadata": {},
   "source": [
    "### Loading Images"
   ]
  },
  {
   "cell_type": "code",
   "execution_count": 15,
   "id": "7ac7c0de-058d-4598-bf55-25f5cc9cb779",
   "metadata": {},
   "outputs": [],
   "source": [
    "img_1=cv.imread(\"D:\\Journey\\CV\\Coding Assignments\\LionKingBright.jpg\")\n",
    "img_2=cv.imread(\"D:\\Journey\\CV\\Coding Assignments\\LionKingDark.jpg\")\n",
    "\n",
    "#You can also load the image in grayscale or convert it to grayscale later\n",
    "#bright_img=cv.imread(\"D:\\Journey\\CV\\Coding Assignments\\LionKingBright.jpg\",cv.IMREAD_GRAYSCALE)"
   ]
  },
  {
   "cell_type": "markdown",
   "id": "053929e7-6c4a-40dd-ac98-10aa0a8b93af",
   "metadata": {},
   "source": [
    "### Displaying Original Images "
   ]
  },
  {
   "cell_type": "code",
   "execution_count": 16,
   "id": "f38018d9-6966-4fd8-9514-a551f660606d",
   "metadata": {},
   "outputs": [
    {
     "data": {
      "text/plain": [
       "-1"
      ]
     },
     "execution_count": 16,
     "metadata": {},
     "output_type": "execute_result"
    }
   ],
   "source": [
    "if img_1  is None:\n",
    "    print(\"Bright image is not loaded\")\n",
    "\n",
    "cv.imshow(\"Image 1\", img_1)\n",
    "cv.imshow(\"Image 2\", img_2)\n",
    "\n",
    "cv.waitKey(0)"
   ]
  },
  {
   "cell_type": "markdown",
   "id": "ba5f2b9c-2f09-4353-9479-59967cf653dc",
   "metadata": {},
   "source": [
    "# GrayScale Model"
   ]
  },
  {
   "cell_type": "code",
   "execution_count": 17,
   "id": "55887565-216c-47d4-8bfe-bb09dff73081",
   "metadata": {},
   "outputs": [],
   "source": [
    "def gray_scale(img_1,img_2):\n",
    "    gray_img_1=cv.cvtColor(img_1,cv.COLOR_BGR2GRAY)\n",
    "    gray_img_2=cv.cvtColor(img_2,cv.COLOR_BGR2GRAY)\n",
    "    #cv.imshow(\"Gray Image 1\",gray_img_1)\n",
    "    #cv.imshow(\"Gray Image 2\",gray_img_2)\n",
    "    #cv.waitKey(0)\n",
    "    return gray_img_1,gray_img_2"
   ]
  },
  {
   "cell_type": "markdown",
   "id": "2ab52dda-c16a-4021-91be-25c50f4467e8",
   "metadata": {},
   "source": [
    "# RGB Model"
   ]
  },
  {
   "cell_type": "code",
   "execution_count": 18,
   "id": "cfe59a03-bf19-495f-b333-71ee48ab9289",
   "metadata": {},
   "outputs": [],
   "source": [
    "def rgb_scale(img_1,img_2):\n",
    "    rgb_img_1=cv.cvtColor(img_1,cv.COLOR_BGR2RGB)\n",
    "    rgb_img_2=cv.cvtColor(img_2,cv.COLOR_BGR2RGB)\n",
    "    #cv.imshow(\"RGB Image 1\",rgb_img_1)\n",
    "    #cv.imshow(\"RGB Image 2\",rgb_img_2)\n",
    "    #cv.waitKey(0)\n",
    "    return rgb_img_1,rgb_img_2"
   ]
  },
  {
   "cell_type": "markdown",
   "id": "f31d2cfc-b31c-49e7-8719-9218bcd9c343",
   "metadata": {},
   "source": [
    "# YUV Model"
   ]
  },
  {
   "cell_type": "code",
   "execution_count": 19,
   "id": "30f2fe2c-b972-4543-9a00-87e9a3eccf65",
   "metadata": {},
   "outputs": [],
   "source": [
    "def yuv_model(img_1,img_2):\n",
    "    yuv_img_1=cv.cvtColor(img_1,cv.COLOR_BGR2YUV)\n",
    "    yuv_img_2=cv.cvtColor(img_2,cv.COLOR_BGR2YUV)\n",
    "    #cv.imshow(\"YUV Image 1\",yuv_img_1)\n",
    "    #cv.imshow(\"YUV Image 2\",yuv_img_2)\n",
    "    #cv.waitKey(0)\n",
    "    y1,_,_=cv.split(yuv_img_1)\n",
    "    y2,_,_=cv.split(yuv_img_2)\n",
    "    return y1,y2"
   ]
  },
  {
   "cell_type": "markdown",
   "id": "f3af22a9-d7d6-44d7-bd59-fd0b999e4ba5",
   "metadata": {},
   "source": [
    "# HSL Model"
   ]
  },
  {
   "cell_type": "code",
   "execution_count": 20,
   "id": "b19997f8-e460-4f9c-8592-2d293d5f7910",
   "metadata": {},
   "outputs": [],
   "source": [
    "def hsl_model(img_1,img_2):\n",
    "    hsl_img_1=cv.cvtColor(img_1,cv.COLOR_BGR2HLS)\n",
    "    hsl_img_2=cv.cvtColor(img_2,cv.COLOR_BGR2HLS)\n",
    "    #cv.imshow(\"HSL Image 1\",hsl_img_1)\n",
    "    #cv.imshow(\"HSL Image 2\",hsl_img_2)\n",
    "    #cv.waitKey(0)\n",
    "    _,l1,_=cv.split(hsl_img_1)\n",
    "    _,l2,_=cv.split(hsl_img_2)\n",
    "    return l1,l2"
   ]
  },
  {
   "cell_type": "markdown",
   "id": "c8545d1e-ef0e-456b-bcf5-d0ed08b84cf9",
   "metadata": {},
   "source": [
    "# HSV Model"
   ]
  },
  {
   "cell_type": "code",
   "execution_count": 21,
   "id": "fa54aa8d-b4b9-4c62-89a0-6e8747aabf45",
   "metadata": {},
   "outputs": [],
   "source": [
    "def hsv_model(img_1,img_2):\n",
    "    hsv_img_1=cv.cvtColor(img_1,cv.COLOR_BGR2HSV)\n",
    "    hsv_img_2=cv.cvtColor(img_2,cv.COLOR_BGR2HSV)\n",
    "    #cv.imshow(\"HSV Image 1\",hsv_img_1)\n",
    "    #cv.imshow(\"HSV Image 2\",hsv_img_2)\n",
    "    #cv.waitKey(0)\n",
    "    _,_,v1=cv.split(hsv_img_1)\n",
    "    _,_,v2=cv.split(hsv_img_2)\n",
    "    return v1,v2"
   ]
  },
  {
   "cell_type": "markdown",
   "id": "0ed358d4-88b8-4554-a754-f7b956be4e1c",
   "metadata": {},
   "source": [
    "### Finding Average"
   ]
  },
  {
   "cell_type": "code",
   "execution_count": 22,
   "id": "6ed11155-886c-432b-beca-b84ff3a5a5e9",
   "metadata": {},
   "outputs": [],
   "source": [
    "def find_average(image_1,image_2):\n",
    "    avg1=np.mean(image_1)\n",
    "    avg2=np.mean(image_2)\n",
    "    if avg1>avg2:\n",
    "        print(\"The first picture has brightness of \",avg1 ,\" is brighter by :\",avg1-avg2)\n",
    "    elif avg1<avg2:\n",
    "        print(\"The second picture has brightness of \",avg2 ,\"is brighter by :\",avg2-avg1)\n",
    "    else:\n",
    "        print(\"Both have same brightness of\",avg1)"
   ]
  },
  {
   "cell_type": "code",
   "execution_count": 23,
   "id": "c615958c-09fa-43df-a4ea-60bfb76af067",
   "metadata": {},
   "outputs": [],
   "source": [
    "def brightness(img_1,img_2):\n",
    "    print(\"The brightness of image can be found by:\")\n",
    "    image1,image2=gray_scale(img_1,img_2)\n",
    "    print(\"GrayScale Model:\"),find_average(image1,image2)\n",
    "    image1,image2=rgb_scale(img_1,img_2)\n",
    "    print(\"RGB Model:\"),find_average(image1,image2)\n",
    "    image1,image2=yuv_model(img_1,img_2)\n",
    "    print(\"YUV Model:\"),find_average(image1,image2)\n",
    "    image1,image2=hsl_model(img_1,img_2)\n",
    "    print(\"HSL Model:\"),find_average(image1,image2)\n",
    "    image1,image2=hsv_model(img_1,img_2)\n",
    "    print(\"HSV Model:\"),find_average(image1,image2)"
   ]
  },
  {
   "cell_type": "code",
   "execution_count": 12,
   "id": "f722f0f8",
   "metadata": {},
   "outputs": [
    {
     "name": "stdout",
     "output_type": "stream",
     "text": [
      "The brightness of image can be found by:\n",
      "GrayScale Model:\n",
      "The first picture has brightness of  124.37346923355899  is brighter by : 9.356582493067336\n",
      "RGB Model:\n",
      "The first picture has brightness of  128.19691529658286  is brighter by : 12.500735304699745\n",
      "YUV Model:\n",
      "The first picture has brightness of  124.37346696687621  is brighter by : 9.356590372488455\n",
      "HSL Model:\n",
      "The first picture has brightness of  132.52263660541587  is brighter by : 13.725838425916791\n",
      "HSV Model:\n",
      "The first picture has brightness of  175.4726063829787  is brighter by : 23.99267610120691\n"
     ]
    }
   ],
   "source": [
    "brightness(img_1,img_2)"
   ]
  },
  {
   "cell_type": "code",
   "execution_count": 27,
   "id": "467e1960",
   "metadata": {},
   "outputs": [],
   "source": [
    "image_1=cv.imread(\"D:\\Journey\\CV\\Coding Assignments\\Original.png\")\n",
    "image_2=cv.imread(\"D:\\Journey\\CV\\Coding Assignments\\Bright.png\")"
   ]
  },
  {
   "cell_type": "code",
   "execution_count": 28,
   "id": "29677410",
   "metadata": {},
   "outputs": [
    {
     "name": "stdout",
     "output_type": "stream",
     "text": [
      "The brightness of image can be found by:\n",
      "GrayScale Model:\n",
      "The second picture has brightness of  79.81614279513889 is brighter by : 35.06138237847222\n",
      "RGB Model:\n",
      "The second picture has brightness of  84.53913324652778 is brighter by : 37.121032552083335\n",
      "YUV Model:\n",
      "The second picture has brightness of  79.81660503472222 is brighter by : 35.06168012152777\n",
      "HSL Model:\n",
      "The second picture has brightness of  84.36587890625 is brighter by : 36.83000651041667\n",
      "HSV Model:\n",
      "The second picture has brightness of  111.70375954861112 is brighter by : 48.096775173611114\n"
     ]
    }
   ],
   "source": [
    "brightness(image_1,image_2)"
   ]
  }
 ],
 "metadata": {
  "kernelspec": {
   "display_name": "Python 3 (ipykernel)",
   "language": "python",
   "name": "python3"
  },
  "language_info": {
   "codemirror_mode": {
    "name": "ipython",
    "version": 3
   },
   "file_extension": ".py",
   "mimetype": "text/x-python",
   "name": "python",
   "nbconvert_exporter": "python",
   "pygments_lexer": "ipython3",
   "version": "3.11.3"
  }
 },
 "nbformat": 4,
 "nbformat_minor": 5
}
