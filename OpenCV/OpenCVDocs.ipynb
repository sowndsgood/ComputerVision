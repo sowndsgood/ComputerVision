{
 "cells": [
  {
   "cell_type": "markdown",
   "id": "7986c541-c744-405c-b339-53d2e0ec5000",
   "metadata": {},
   "source": [
    "Image"
   ]
  },
  {
   "cell_type": "code",
   "execution_count": 2,
   "id": "9bc01da8-7dba-47cf-8cb6-900e5aed1bcf",
   "metadata": {},
   "outputs": [],
   "source": [
    "import cv2 as cv\n",
    "import sys\n",
    "img=cv.imread(\"Opencvimage.png\",cv.IMREAD_GRAYSCALE)\n",
    "if img is None:\n",
    "    sys.exit(\"Image Not Found\")\n",
    "cv.imshow(\"Window\",img)\n",
    "k=cv.waitKey(0)\n",
    "if k==ord(\"s\"):\n",
    "    cv.imwrite(\"opencvbook.png\",img)"
   ]
  },
  {
   "cell_type": "markdown",
   "id": "3201749e-d61b-4505-af15-d990c6792ce2",
   "metadata": {},
   "source": [
    "Shapes"
   ]
  },
  {
   "cell_type": "code",
   "execution_count": 40,
   "id": "aa6e5357-397a-4e73-a2d8-21feba650c34",
   "metadata": {},
   "outputs": [],
   "source": [
    "import cv2 as cv\n",
    "import numpy as np\n",
    "image=np.zeros((512,1000,3),np.uint8)\n",
    "cv.line(image,(0,0),(511,511),(0,255,0),5)\n",
    "cv.rectangle(image,(350,3),(511,150),(0,0,255),3)\n",
    "cv.circle(image,(200,200),50,(255,0,0),-1)\n",
    "cv.ellipse(image,(300,300),(60,70),0,0,270,(100,20,250),-1)\n",
    "points=np.array([[0,0],[0,140],[80,100],[180,0]],np.int32)\n",
    "points=points.reshape((-1,1,2))\n",
    "cv.polylines(image,[points],True,(200,250,250))\n",
    "cv.imshow(\"Shapes\",image)\n",
    "font=cv.FONT_ITALIC\n",
    "cv.putText(image,\"Hello CV\",(50,300),font,10,(255,235,200),2,cv.LINE_AA)\n",
    "k=cv.waitKey(0)"
   ]
  }
 ],
 "metadata": {
  "kernelspec": {
   "display_name": "Python 3 (ipykernel)",
   "language": "python",
   "name": "python3"
  },
  "language_info": {
   "codemirror_mode": {
    "name": "ipython",
    "version": 3
   },
   "file_extension": ".py",
   "mimetype": "text/x-python",
   "name": "python",
   "nbconvert_exporter": "python",
   "pygments_lexer": "ipython3",
   "version": "3.11.3"
  }
 },
 "nbformat": 4,
 "nbformat_minor": 5
}
